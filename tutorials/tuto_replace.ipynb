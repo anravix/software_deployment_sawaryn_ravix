{
 "cells": [
  {
   "cell_type": "markdown",
   "metadata": {},
   "source": [
    "## Create a chain and pattern"
   ]
  },
  {
   "cell_type": "code",
   "execution_count": 2,
   "metadata": {},
   "outputs": [],
   "source": [
    "chain=\"Mississippi\"\n",
    "pattern_bef=\"i\"\n",
    "pattern_after=\"I\""
   ]
  },
  {
   "cell_type": "markdown",
   "metadata": {},
   "source": [
    "## Import the library"
   ]
  },
  {
   "cell_type": "code",
   "execution_count": 4,
   "metadata": {},
   "outputs": [
    {
     "name": "stdout",
     "output_type": "stream",
     "text": [
      "MIssIssIppI\n",
      "I love spam! Spam is my favorite food. Spam, spam, yum!\n",
      "[5, 10]\n",
      "[3, 0, -3]\n",
      "[21, 0, 35, 77, 14]\n",
      "[2, 2]\n",
      "[2, 6]\n",
      "[2, 6, 4]\n",
      "2\n",
      "9\n",
      "12\n",
      "{' ': 8, 'a': 2, 'c': 1, 'd': 1, 'e': 5, 'g': 1, 'h': 2, 'i': 4, 'l': 2, 'n': 2, 'o': 1, 'p': 2, 'r': 4, 's': 5, 't': 5, 'u': 1, 'w': 2}\n"
     ]
    }
   ],
   "source": [
    "import sys\n",
    "sys.path.append('./..')\n",
    "from vectors_SP import replace"
   ]
  },
  {
   "cell_type": "markdown",
   "metadata": {},
   "source": [
    "## Replace"
   ]
  },
  {
   "cell_type": "code",
   "execution_count": 5,
   "metadata": {},
   "outputs": [
    {
     "data": {
      "text/plain": [
       "'MIssIssIppI'"
      ]
     },
     "execution_count": 5,
     "metadata": {},
     "output_type": "execute_result"
    }
   ],
   "source": [
    "replace(chain,pattern_bef,pattern_after)"
   ]
  },
  {
   "cell_type": "code",
   "execution_count": 7,
   "metadata": {},
   "outputs": [
    {
     "data": {
      "text/plain": [
       "'I love spam! Spam is my favorite food. Spam, spam, yum!'"
      ]
     },
     "execution_count": 7,
     "metadata": {},
     "output_type": "execute_result"
    }
   ],
   "source": [
    "replace(\"I love spom! Spom is my favorite food. Spom, spom, yum!\",\"om\",\"am\")"
   ]
  }
 ],
 "metadata": {
  "kernelspec": {
   "display_name": "Python 3",
   "language": "python",
   "name": "python3"
  },
  "language_info": {
   "codemirror_mode": {
    "name": "ipython",
    "version": 3
   },
   "file_extension": ".py",
   "mimetype": "text/x-python",
   "name": "python",
   "nbconvert_exporter": "python",
   "pygments_lexer": "ipython3",
   "version": "3.6.9"
  }
 },
 "nbformat": 4,
 "nbformat_minor": 2
}
