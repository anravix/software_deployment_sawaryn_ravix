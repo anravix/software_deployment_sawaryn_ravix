{
 "cells": [
  {
<<<<<<< HEAD
   "cell_type": "markdown",
   "metadata": {},
   "source": [
    "## Create vectors\n",
    "Vectors must be in the form of lists\n",
    "\n",
    "WARNING : The vectors must have the same dimension!"
   ]
  },
  {
   "cell_type": "code",
   "execution_count": 22,
   "metadata": {},
   "outputs": [],
   "source": [
    "vect_1 = [1,2,3]\n",
    "vect_2 = [4, 5, 6]"
   ]
  },
  {
||||||| merged common ancestors
   "cell_type": "code",
   "execution_count": 4,
   "metadata": {},
   "outputs": [],
   "source": [
    " %matplotlib inline\n",
    "import matplotlib.pyplot as plt"
   ]
  },
  {
=======
>>>>>>> refs/remotes/origin/master
   "cell_type": "markdown",
   "metadata": {},
   "source": [
<<<<<<< HEAD
    "## Import the library"
||||||| merged common ancestors
    "## Créer les vecteurs\n",
    "Les vecteurs doivent être sous forme de listes"
=======
    "## Create vectors\n",
    "Vectors must be in the form of lists"
>>>>>>> refs/remotes/origin/master
   ]
  },
  {
   "cell_type": "code",
<<<<<<< HEAD
   "execution_count": 23,
||||||| merged common ancestors
   "execution_count": 1,
=======
   "execution_count": 8,
>>>>>>> refs/remotes/origin/master
   "metadata": {},
   "outputs": [],
   "source": [
    "import sys\n",
    "sys.path.append('./..')\n",
    "from vectors_SP import add_vectors"
   ]
  },
  {
   "cell_type": "markdown",
   "metadata": {},
   "source": [
<<<<<<< HEAD
    "## Add two vectors"
||||||| merged common ancestors
    "## Importer la librairie"
=======
    "## Import the library"
>>>>>>> refs/remotes/origin/master
   ]
  },
  {
   "cell_type": "code",
<<<<<<< HEAD
   "execution_count": 24,
||||||| merged common ancestors
   "execution_count": 5,
=======
   "execution_count": 9,
>>>>>>> refs/remotes/origin/master
   "metadata": {},
<<<<<<< HEAD
   "outputs": [
    {
     "data": {
      "text/plain": [
       "[5, 7, 9]"
      ]
     },
     "execution_count": 24,
     "metadata": {},
     "output_type": "execute_result"
    }
   ],
||||||| merged common ancestors
   "outputs": [
    {
     "ename": "ModuleNotFoundError",
     "evalue": "No module named 'vectors_SP'",
     "output_type": "error",
     "traceback": [
      "\u001b[0;31m---------------------------------------------------------------------------\u001b[0m",
      "\u001b[0;31mModuleNotFoundError\u001b[0m                       Traceback (most recent call last)",
      "\u001b[0;32m<ipython-input-5-b41a188d802f>\u001b[0m in \u001b[0;36m<module>\u001b[0;34m\u001b[0m\n\u001b[0;32m----> 1\u001b[0;31m \u001b[0;32mimport\u001b[0m \u001b[0mvectors_SP\u001b[0m\u001b[0;34m\u001b[0m\u001b[0;34m\u001b[0m\u001b[0m\n\u001b[0m",
      "\u001b[0;31mModuleNotFoundError\u001b[0m: No module named 'vectors_SP'"
     ]
    }
   ],
=======
   "outputs": [],
>>>>>>> refs/remotes/origin/master
   "source": [
<<<<<<< HEAD
    "add_vectors(vect_1, vect_2)"
||||||| merged common ancestors
    "import vectors_SP"
=======
    "import sys\n",
    "sys.path.append('./..')\n",
    "from vectors_SP import add_vectors"
>>>>>>> refs/remotes/origin/master
   ]
  },
  {
   "cell_type": "markdown",
   "metadata": {},
   "source": [
<<<<<<< HEAD
    "## Without creating variables"
||||||| merged common ancestors
    "## Ajouter deux vecteurs"
=======
    "## Add two vectors"
>>>>>>> refs/remotes/origin/master
   ]
  },
  {
   "cell_type": "code",
<<<<<<< HEAD
   "execution_count": 25,
||||||| merged common ancestors
   "execution_count": 6,
=======
   "execution_count": 10,
>>>>>>> refs/remotes/origin/master
   "metadata": {},
   "outputs": [
    {
<<<<<<< HEAD
     "data": {
      "text/plain": [
       "[10, -1, 1]"
      ]
     },
     "execution_count": 25,
     "metadata": {},
     "output_type": "execute_result"
||||||| merged common ancestors
     "ename": "NameError",
     "evalue": "name 'add_vectors' is not defined",
     "output_type": "error",
     "traceback": [
      "\u001b[0;31m---------------------------------------------------------------------------\u001b[0m",
      "\u001b[0;31mNameError\u001b[0m                                 Traceback (most recent call last)",
      "\u001b[0;32m<ipython-input-6-bd3967079b13>\u001b[0m in \u001b[0;36m<module>\u001b[0;34m\u001b[0m\n\u001b[0;32m----> 1\u001b[0;31m \u001b[0madd_vectors\u001b[0m\u001b[0;34m(\u001b[0m\u001b[0mvect_1\u001b[0m\u001b[0;34m,\u001b[0m \u001b[0mvect_2\u001b[0m\u001b[0;34m)\u001b[0m\u001b[0;34m\u001b[0m\u001b[0;34m\u001b[0m\u001b[0m\n\u001b[0m",
      "\u001b[0;31mNameError\u001b[0m: name 'add_vectors' is not defined"
     ]
=======
     "data": {
      "text/plain": [
       "[5, 7, 9]"
      ]
     },
     "execution_count": 10,
     "metadata": {},
     "output_type": "execute_result"
>>>>>>> refs/remotes/origin/master
    }
   ],
   "source": [
    "add_vectors([3,-1,5], [7, 0, -4])"
   ]
  }
 ],
 "metadata": {
  "kernelspec": {
   "display_name": "Python 3",
   "language": "python",
   "name": "python3"
  },
  "language_info": {
   "codemirror_mode": {
    "name": "ipython",
    "version": 3
   },
   "file_extension": ".py",
   "mimetype": "text/x-python",
   "name": "python",
   "nbconvert_exporter": "python",
   "pygments_lexer": "ipython3",
   "version": "3.6.9"
  }
 },
 "nbformat": 4,
 "nbformat_minor": 4
}
